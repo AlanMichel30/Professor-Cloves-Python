{
  "nbformat": 4,
  "nbformat_minor": 0,
  "metadata": {
    "colab": {
      "provenance": [],
      "authorship_tag": "ABX9TyPW5xMKguVJdhjd7PyDbWsP",
      "include_colab_link": true
    },
    "kernelspec": {
      "name": "python3",
      "display_name": "Python 3"
    },
    "language_info": {
      "name": "python"
    }
  },
  "cells": [
    {
      "cell_type": "markdown",
      "metadata": {
        "id": "view-in-github",
        "colab_type": "text"
      },
      "source": [
        "<a href=\"https://colab.research.google.com/github/AlanMichel30/Professor-Cloves-Python/blob/main/AT2_DESENVOLVA_OBJETOS_EM_PYTHON.ipynb\" target=\"_parent\"><img src=\"https://colab.research.google.com/assets/colab-badge.svg\" alt=\"Open In Colab\"/></a>"
      ]
    },
    {
      "cell_type": "code",
      "source": [
        "# DOCENTE: Prof. MSc. Cloves\n",
        "# AULA X: Python Noções OO\n",
        "# Estudante: Alan Michel\n",
        "\n",
        "class Sistema_solar:\n",
        "    def __init__(self, dis_1, dis_2, dis_3, dis_4):\n",
        "        self.dis_1 = dis_1\n",
        "        self.dis_2 = dis_2\n",
        "        self.dis_3 = dis_3\n",
        "        self.dis_4 = dis_4\n",
        "\n",
        "    def distancia(self):\n",
        "        return f\"distância: {self.dis_1}Km ,distância: {self.dis_2}Km, distância: {self.dis_3}Km, distância: {self.dis_4}Km.\"\n",
        "\n",
        "class Distancia:\n",
        "    def __init__(self):\n",
        "        self.planetas = []\n",
        "\n",
        "    def adicionar_planeta(self, planeta):\n",
        "        self.planetas.append(planeta)\n",
        "\n",
        "    def listar_planetas(self):\n",
        "        for planeta in self.planetas:\n",
        "            print(planeta.distancia())\n",
        "\n",
        "# Criando uma instância da classe Cadastro\n",
        "nosso_sol = Distancia()\n",
        "\n",
        "# Criando instâncias da classe Pessoa e adicionando ao cadastro\n",
        "distancia1 = Sistema_solar(\"Mercúrio 57.910.000\",\"Vênus 108.200.000\",\"Terra 149.600.000\",\"Marte 227.940.000\")\n",
        "distancia2 = Sistema_solar(\"Júpiter 778.330.000\",\"Saturno 1.429.400.000\",\"Urano 2.870.990.000\",\"Netuno 2.870.990.000\")\n",
        "\n",
        "nosso_sol.adicionar_planeta(distancia1)\n",
        "nosso_sol.adicionar_planeta(distancia2)\n",
        "\n",
        "# Listando as pessoas no cadastro\n",
        "nosso_sol.listar_planetas()"
      ],
      "metadata": {
        "colab": {
          "base_uri": "https://localhost:8080/"
        },
        "id": "AC16DkV8tRgB",
        "outputId": "4d66a341-dcf7-4844-90cf-e6ab001b5127"
      },
      "execution_count": 1,
      "outputs": [
        {
          "output_type": "stream",
          "name": "stdout",
          "text": [
            "distância: Mercúrio 57.910.000Km ,distância: Vênus 108.200.000Km, distância: Terra 149.600.000Km, distância: Marte 227.940.000Km.\n",
            "distância: Júpiter 778.330.000Km ,distância: Saturno 1.429.400.000Km, distância: Urano 2.870.990.000Km, distância: Netuno 2.870.990.000Km.\n"
          ]
        }
      ]
    },
    {
      "cell_type": "code",
      "source": [
        "class Medico:\n",
        "  def __init__(self, codigo,paciente, medicamento):\n",
        "    self.codigo = codigo\n",
        "    self.paciente = paciente\n",
        "    self.medicamento = medicamento\n",
        "\n",
        "  def sala_de_medicamento(self):\n",
        "    return f\"O Código {self.codigo}, nome {self.paciente} emissão o medicamento {self.medicamento}.\"\n",
        "\n",
        "pessoa = Medico('0012','Alan Michel','dipirona')\n",
        "\n",
        "print(pessoa.sala_de_medicamento())\n"
      ],
      "metadata": {
        "id": "h0PezKklpopW",
        "colab": {
          "base_uri": "https://localhost:8080/"
        },
        "outputId": "a272e606-6ebd-4bd2-ef7e-16b176c559cf"
      },
      "execution_count": null,
      "outputs": [
        {
          "output_type": "stream",
          "name": "stdout",
          "text": [
            "O Código 0012, nome Alan Michel emissão o medicamento dipirona.\n"
          ]
        }
      ]
    },
    {
      "cell_type": "code",
      "source": [
        "class Cadastro:\n",
        "  def __init__(self, nome, cpf,data_de_nascimento, email, senha):\n",
        "     self.nome = nome\n",
        "     self.cpf = cpf\n",
        "     self.data_de_nascimento = data_de_nascimento\n",
        "     self.email = email\n",
        "     self. senha = senha\n",
        "\n",
        "  def banco_de_dados(self):\n",
        "    return f\"{self.nome}{self.cpf}{self.data_de_nascimento}{self.email}{self.senha}\"\n",
        "\n",
        "pessoa = Cadastro('Alan' , '222.333.444-0', '14/06/1992','alanmichel1406@gmail.com', 1234)\n",
        "\n",
        "print(pessoa.nome)\n",
        "print(pessoa.cpf)\n",
        "print(pessoa.data_de_nascimento)\n",
        "print(pessoa.email)\n",
        "print(pessoa.senha)\n"
      ],
      "metadata": {
        "colab": {
          "base_uri": "https://localhost:8080/"
        },
        "id": "LYC2kJTyk_QZ",
        "outputId": "1bd77efd-0615-4462-b6a9-6c173ebb9254"
      },
      "execution_count": null,
      "outputs": [
        {
          "output_type": "stream",
          "name": "stdout",
          "text": [
            "Alan\n",
            "222.333.444-0\n",
            "14/06/1992\n",
            "alanmichel1406@gmail.com\n",
            "1234\n"
          ]
        }
      ]
    },
    {
      "cell_type": "code",
      "source": [
        "class Hardware:\n",
        "  def __init__(self,placa,processador,memoria,hd,fonte):\n",
        "    self.placa = placa\n",
        "    self.processador = processador\n",
        "    self.memoria = memoria\n",
        "    self.hd = hd\n",
        "    self.fonte = fonte\n",
        "\n",
        "  def dentro(self):\n",
        "    return f\"Meu computador dentro placa de mãe {self.placa}, processador {self.processador}, memória {self.memoria}, disco rigido {self.hd}, fonte de energia {self.fonte}.\"\n",
        "\n",
        "hardware = Hardware('GigaByte','Intel Core 5','RAM 4GB','500GB','750w')\n",
        "\n",
        "print(hardware.dentro())\n"
      ],
      "metadata": {
        "colab": {
          "base_uri": "https://localhost:8080/"
        },
        "id": "XrHOkme8excY",
        "outputId": "56336aab-c549-48a9-ac1e-a5a5319f34b0"
      },
      "execution_count": null,
      "outputs": [
        {
          "output_type": "stream",
          "name": "stdout",
          "text": [
            "Meu computador dentro placa de mãe GigaByte, processador Intel Core 5, memória RAM 4GB, disco rigido 500GB, fonte de energia 750w.\n"
          ]
        }
      ]
    },
    {
      "cell_type": "code",
      "source": [
        "class Carro:\n",
        "  def __init__(self,marca, modelo, portas,cor, motor):\n",
        "    self.marca = marca\n",
        "    self.modelo = modelo\n",
        "    self.portas = portas\n",
        "    self.cor = cor\n",
        "    self.motor = motor\n",
        "\n",
        "  def apresentar(self):\n",
        "      return f\"Meu carro é {self.marca}, modelo e {self.modelo}, tenho {self.portas} portas, cor {self.cor}, motor é {self.motor}.\"\n",
        "\n",
        "pessoa1 = Carro('Volkswagen','Sapce Fox', 4 ,'vermelho',1.6)\n",
        "\n",
        "print(pessoa1.apresentar())\n",
        "\n"
      ],
      "metadata": {
        "colab": {
          "base_uri": "https://localhost:8080/"
        },
        "id": "BMlPaYbzW7kO",
        "outputId": "c23ee83d-8bcf-42ea-ee17-72ebd579f690"
      },
      "execution_count": null,
      "outputs": [
        {
          "output_type": "stream",
          "name": "stdout",
          "text": [
            "Meu carro é Volkswagen, modelo e Sapce Fox, tenho 4 portas, cor vermelho, motor é 1.6.\n"
          ]
        }
      ]
    }
  ]
}